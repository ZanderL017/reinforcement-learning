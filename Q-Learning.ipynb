{
 "cells": [
  {
   "cell_type": "code",
   "execution_count": 1,
   "metadata": {},
   "outputs": [],
   "source": [
    "import gym\n",
    "import numpy as np\n",
    "import random\n",
    "import time\n",
    "from IPython import display"
   ]
  },
  {
   "cell_type": "markdown",
   "metadata": {},
   "source": [
    "### Initialize Environment"
   ]
  },
  {
   "cell_type": "code",
   "execution_count": 2,
   "metadata": {},
   "outputs": [],
   "source": [
    "env = gym.make('FrozenLake8x8-v0')"
   ]
  },
  {
   "cell_type": "code",
   "execution_count": 3,
   "metadata": {},
   "outputs": [
    {
     "name": "stdout",
     "output_type": "stream",
     "text": [
      "(0, 0.0, False, {'prob': 0.3333333333333333})\n",
      "  (Left)\n",
      "\u001b[41mS\u001b[0mFFFFFFF\n",
      "FFFFFFFF\n",
      "FFFHFFFF\n",
      "FFFFFHFF\n",
      "FFFHFFFF\n",
      "FHHFFFHF\n",
      "FHFFHFHF\n",
      "FFFHFFFG\n"
     ]
    }
   ],
   "source": [
    "env.reset()\n",
    "print(env.step(0))\n",
    "env.render()"
   ]
  },
  {
   "cell_type": "markdown",
   "metadata": {},
   "source": [
    "### Create Q-table"
   ]
  },
  {
   "cell_type": "code",
   "execution_count": 4,
   "metadata": {},
   "outputs": [],
   "source": [
    "#State is given by index in lake of 64 tiles: agent has 4 possible moves: up, down, left, right\n",
    "\n",
    "num_actions = env.action_space.n\n",
    "num_states = env.observation_space.n\n",
    "\n",
    "q_table = np.zeros((num_states, num_actions))"
   ]
  },
  {
   "cell_type": "markdown",
   "metadata": {},
   "source": [
    "### Initialize Hyperparameters"
   ]
  },
  {
   "cell_type": "code",
   "execution_count": 5,
   "metadata": {},
   "outputs": [],
   "source": [
    "hyperparameters = {\n",
    "    'max_steps_per_episode': 200,\n",
    "    'learning_rate': 0.1,\n",
    "    'discount_rate': 0.99,\n",
    "    'exploration_rate': 1,\n",
    "    'max_exploration_rate': 1,\n",
    "    'min_exploration_rate': 0.01,\n",
    "    'exploration_rate_decay': 0.0001,\n",
    "    'cumulative_episodes': 0,\n",
    "}"
   ]
  },
  {
   "cell_type": "markdown",
   "metadata": {},
   "source": [
    "### Create training and testing functions"
   ]
  },
  {
   "cell_type": "code",
   "execution_count": 6,
   "metadata": {},
   "outputs": [],
   "source": [
    "def train_agent(env, q_table, episodes, parameters):\n",
    "    \n",
    "    for episode in range(episodes):\n",
    "        state = env.reset()\n",
    "        done = False\n",
    "        rewards = 0\n",
    "        \n",
    "        for step in range(parameters['max_steps_per_episode']):\n",
    "            # Explore or exploit, depending on the exploration rate; exploration should decrease over time,\n",
    "            # and exploitation should increase over time.\n",
    "            if random.uniform(0, 1) > parameters['exploration_rate']:\n",
    "                # exploit\n",
    "                action = np.argmax(q_table[state,:]) \n",
    "            else:\n",
    "                # explore\n",
    "                action = env.action_space.sample()\n",
    "                \n",
    "            # Do action\n",
    "            new_state, reward, done, info = env.step(action)\n",
    "            \n",
    "            # Update Q-table\n",
    "            current_value = q_table[state, action] # the current value weighted by the learning rate\n",
    "            new_value = reward + parameters['discount_rate'] * np.max(q_table[new_state, :]) # the temporal difference target\n",
    "            \n",
    "            q_table[state, action] = current_value + parameters['learning_rate'] * (new_value - current_value)\n",
    "            \n",
    "            # Rest variables for next step\n",
    "            state = new_state\n",
    "            rewards += reward\n",
    "            \n",
    "            # End episode if finished\n",
    "            if done:\n",
    "                break\n",
    "                \n",
    "        # Print updates\n",
    "        if episode % (episodes / 10) == 0:\n",
    "            print(episode / episodes * 100, '%')\n",
    "            \n",
    "        # Update exploration rate\n",
    "        parameters['exploration_rate'] = parameters['min_exploration_rate'] + (parameters['max_exploration_rate'] - parameters['min_exploration_rate']) * np.exp(-parameters['exploration_rate_decay'] * parameters['cumulative_episodes'])\n",
    "        \n",
    "        parameters['cumulative_episodes'] += 1"
   ]
  },
  {
   "cell_type": "code",
   "execution_count": 7,
   "metadata": {},
   "outputs": [],
   "source": [
    "def test_agent(env, q_table):\n",
    "    state = env.reset()\n",
    "    done = False\n",
    "    while not done:\n",
    "        action = np.argmax(q_table[state, :])\n",
    "        state, _reward, done, _info = env.step(action)\n",
    "        time.sleep(0.25)\n",
    "        display.clear_output(wait=True)\n",
    "        env.render()"
   ]
  },
  {
   "cell_type": "code",
   "execution_count": 15,
   "metadata": {},
   "outputs": [
    {
     "name": "stdout",
     "output_type": "stream",
     "text": [
      "0.0 %\n",
      "10.0 %\n",
      "20.0 %\n",
      "30.0 %\n",
      "40.0 %\n",
      "50.0 %\n",
      "60.0 %\n",
      "70.0 %\n",
      "80.0 %\n",
      "90.0 %\n"
     ]
    }
   ],
   "source": [
    "train_agent(env, q_table, 10000, hyperparameters)"
   ]
  },
  {
   "cell_type": "code",
   "execution_count": 9,
   "metadata": {
    "scrolled": true
   },
   "outputs": [
    {
     "name": "stdout",
     "output_type": "stream",
     "text": [
      "  (Right)\n",
      "SFFFFFFF\n",
      "FFFFFFFF\n",
      "FFFHFFFF\n",
      "FFFFFHFF\n",
      "FFFHFFFF\n",
      "FHHFFFHF\n",
      "FHFFHFHF\n",
      "FFFHFFF\u001b[41mG\u001b[0m\n"
     ]
    }
   ],
   "source": [
    "test_agent(env, q_table)"
   ]
  },
  {
   "cell_type": "markdown",
   "metadata": {},
   "source": [
    "### Create evaluation function"
   ]
  },
  {
   "cell_type": "code",
   "execution_count": 16,
   "metadata": {},
   "outputs": [],
   "source": [
    "def evaluate_agent(env, q_table, test_runs=100):\n",
    "    scores = []\n",
    "    steps = []\n",
    "    for i in range(test_runs):\n",
    "        state = env.reset()\n",
    "        done = False\n",
    "        step = 0\n",
    "        while not done:\n",
    "            action = np.argmax(q_table[state, :])\n",
    "            state, reward, done, info = env.step(action)\n",
    "            step += 1\n",
    "            if done:\n",
    "                scores.append(reward)\n",
    "                steps.append(step)\n",
    "                \n",
    "    scores = np.array(scores)\n",
    "    steps = np.array(steps)\n",
    "    \n",
    "    success_rate = scores.mean()\n",
    "    average_steps = steps[scores == 1].mean()\n",
    "    print('Success Rate: ', success_rate)\n",
    "    print('Average Steps per Completion: ', average_steps)"
   ]
  },
  {
   "cell_type": "code",
   "execution_count": 17,
   "metadata": {},
   "outputs": [
    {
     "name": "stdout",
     "output_type": "stream",
     "text": [
      "Success Rate:  0.85\n",
      "Average Steps per Completion:  78.76470588235294\n"
     ]
    }
   ],
   "source": [
    "evaluate_agent(env, q_table)"
   ]
  }
 ],
 "metadata": {
  "kernelspec": {
   "display_name": "Python 3",
   "language": "python",
   "name": "python3"
  },
  "language_info": {
   "codemirror_mode": {
    "name": "ipython",
    "version": 3
   },
   "file_extension": ".py",
   "mimetype": "text/x-python",
   "name": "python",
   "nbconvert_exporter": "python",
   "pygments_lexer": "ipython3",
   "version": "3.8.5"
  }
 },
 "nbformat": 4,
 "nbformat_minor": 4
}
